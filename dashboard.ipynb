{
 "cells": [
  {
   "attachments": {},
   "cell_type": "markdown",
   "metadata": {},
   "source": [
    "Dashboard Tugas Besar Pemrograman SQL untuk Big Data"
   ]
  },
  {
   "attachments": {},
   "cell_type": "markdown",
   "metadata": {},
   "source": [
    "Import library yang digunakan"
   ]
  },
  {
   "cell_type": "code",
   "execution_count": 26,
   "metadata": {},
   "outputs": [],
   "source": [
    "import pandas as pd\n",
    "import matplotlib.pyplot as plt\n",
    "import numpy as np\n",
    "import pymysql"
   ]
  },
  {
   "cell_type": "code",
   "execution_count": 13,
   "metadata": {},
   "outputs": [],
   "source": [
    "connection = pymysql.connect(host=\"localhost\", \n",
    "                             port=3307, \n",
    "                             user=\"root\", \n",
    "                             passwd=\"melikacantik\", database=\"tubes_basdat\")\n",
    "cursor = connection.cursor()"
   ]
  },
  {
   "cell_type": "code",
   "execution_count": 14,
   "metadata": {},
   "outputs": [],
   "source": [
    "cursor.execute(\"select * from review_table\")\n",
    "review_table = cursor.fetchall()\n",
    "cursor.execute(\"select * from product_table\")\n",
    "product_table = cursor.fetchall()\n",
    "cursor.execute(\"select * from time_table\")\n",
    "time_table = cursor.fetchall()\n"
   ]
  },
  {
   "attachments": {},
   "cell_type": "markdown",
   "metadata": {},
   "source": [
    "Dashboard #1 Rata-rata rating perkategori"
   ]
  },
  {
   "cell_type": "code",
   "execution_count": 15,
   "metadata": {},
   "outputs": [],
   "source": [
    "cursor.execute(\"select * from average_rating_dashboard\")\n",
    "average_rating_dahsboard = cursor.fetchall()"
   ]
  },
  {
   "cell_type": "code",
   "execution_count": 22,
   "metadata": {},
   "outputs": [],
   "source": [
    "category = []\n",
    "for value in average_rating_dahsboard:\n",
    "    category.append(value[0])\n",
    "\n",
    "average_rating = []\n",
    "for value in average_rating_dahsboard:\n",
    "    average_rating.append(value[1])\n",
    "\n",
    "data={'category':category,'rating':average_rating}\n",
    "df=pd.DataFrame(data)\n",
    "\n"
   ]
  },
  {
   "cell_type": "code",
   "execution_count": 28,
   "metadata": {},
   "outputs": [
    {
     "data": {
      "image/png": "[encoded data removed]",
      "text/plain": [
       "<Figure size 640x480 with 1 Axes>"
      ]
     },
     "metadata": {},
     "output_type": "display_data"
    }
   ],
   "source": [
    "fig = plt.figure()\n",
    "ax = fig.add_axes([0,0,1,1])\n",
    "ax.set_xlabel('Category')\n",
    "ax.set_ylabel('Rating')\n",
    "\n",
    "#yang y duluan baru x\n",
    "ax.bar(df['category'], df['rating'])\n",
    "plt.show()\n"
   ]
  },
  {
   "attachments": {},
   "cell_type": "markdown",
   "metadata": {},
   "source": [
    "Dashboard #2 votes perbarang"
   ]
  },
  {
   "cell_type": "code",
   "execution_count": 31,
   "metadata": {},
   "outputs": [],
   "source": [
    "cursor.execute(\"select * from vote_score_dashboard\")\n",
    "vote_score_dahsboard = cursor.fetchall()"
   ]
  },
  {
   "cell_type": "code",
   "execution_count": 32,
   "metadata": {},
   "outputs": [
    {
     "data": {
      "text/plain": [
       "(('Guanfacine', 'Drug', 192),\n",
       " ('Effexor XR', 'Drug', 166),\n",
       " ('Cialis', 'Drug', 132),\n",
       " ('Estradiol', 'Drug', 128),\n",
       " ('Buprenorphine', 'Drug', 125),\n",
       " (\"Phillips' Milk of Magnesia\", 'Drug', 120),\n",
       " ('Eflornithine', 'Drug', 99),\n",
       " ('Ledipasvir / sofosbuvir', 'Drug', 94),\n",
       " ('Alprazolam', 'Drug', 87),\n",
       " ('Mobic', 'Drug', 82))"
      ]
     },
     "execution_count": 32,
     "metadata": {},
     "output_type": "execute_result"
    }
   ],
   "source": [
    "vote_score_dahsboard"
   ]
  },
  {
   "cell_type": "code",
   "execution_count": null,
   "metadata": {},
   "outputs": [],
   "source": []
  }
 ],
 "metadata": {
  "kernelspec": {
   "display_name": "Python 3",
   "language": "python",
   "name": "python3"
  },
  "language_info": {
   "codemirror_mode": {
    "name": "ipython",
    "version": 3
   },
   "file_extension": ".py",
   "mimetype": "text/x-python",
   "name": "python",
   "nbconvert_exporter": "python",
   "pygments_lexer": "ipython3",
   "version": "3.8.0"
  },
  "orig_nbformat": 4,
  "vscode": {
   "interpreter": {
    "hash": "db84bd3dba1ca37c2dfd1296e256dd7708a0bbcd21cd0ed28744ff114344bddb"
   }
  }
 },
 "nbformat": 4,
 "nbformat_minor": 2
}
